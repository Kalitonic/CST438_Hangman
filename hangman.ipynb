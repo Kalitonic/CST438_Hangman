{
 "cells": [
  {
   "cell_type": "markdown",
   "metadata": {},
   "source": [
    "**CST 438 Software Engineering - Assignment 1**"
   ]
  },
  {
   "cell_type": "markdown",
   "metadata": {},
   "source": [
    "**HANGMAN GAME**"
   ]
  },
  {
   "cell_type": "markdown",
   "metadata": {},
   "source": [
    "***"
   ]
  },
  {
   "cell_type": "markdown",
   "metadata": {},
   "source": [
    "**Part 1 – Creating a GitHub repository \\ Project**"
   ]
  },
  {
   "cell_type": "code",
   "execution_count": 23,
   "metadata": {
    "collapsed": true
   },
   "outputs": [],
   "source": [
    "# web based hangman game where all processing and game content \n",
    "# will be handled and delivered by an http server program."
   ]
  },
  {
   "cell_type": "code",
   "execution_count": 47,
   "metadata": {
    "collapsed": true
   },
   "outputs": [],
   "source": [
    "# import necessary libs\n",
    "import csv\n",
    "import random\n",
    "import numpy as np"
   ]
  },
  {
   "cell_type": "code",
   "execution_count": 48,
   "metadata": {
    "collapsed": true
   },
   "outputs": [],
   "source": [
    "# import word list csv into a list\n",
    "word_list = []                  # empty list\n",
    "\n",
    "with open('./words.csv') as w:  # import words list \n",
    "    reader = csv.reader(w)\n",
    "    for row in reader:          # read words list into word_list\n",
    "        for i in row:\n",
    "            word_list.append(i)"
   ]
  },
  {
   "cell_type": "code",
   "execution_count": 56,
   "metadata": {
    "collapsed": true
   },
   "outputs": [],
   "source": [
    "# global values\n",
    "word = 'experiment'     # empty string to eventually hold word\n",
    "letter = ''   # right guess variable holder\n",
    "guesses = ''  # holds guessed letters\n",
    "guess = None  # None type to eventually hold current guess"
   ]
  },
  {
   "cell_type": "code",
   "execution_count": 57,
   "metadata": {},
   "outputs": [],
   "source": [
    "class Game():\n",
    "    \n",
    "    def getWord():\n",
    "        for n in range(len(word_list)):\n",
    "            num = random.randint(0,len(word_list)-1)\n",
    "        word = word_list[num]\n",
    "        return word\n",
    "    \n",
    "    def display(letter, word, guesses):\n",
    "        word = word.upper()\n",
    "        blank = '_' * (len(word) - len(letter))          # display blanks\n",
    "        guesses = guesses.upper()\n",
    "        \n",
    "        print(\"Guesses: \", guesses, end=' ')\n",
    "        print('\\n')\n",
    "        \n",
    "        for l in range(len(word)):                       # replace blanks if correct letter \n",
    "            if word[l] in letter:\n",
    "                blank = blank[:l] + word[l] + blank[l:]  # update blanks\n",
    "        \n",
    "        for l in blank:\n",
    "            print(l, end=' ')\n",
    "    \n",
    "    def guessed(guesses):\n",
    "        guess = input('\\nGuess a letter: ')\n",
    "        guess = guess.upper()                            # standardize input to uppercase\n",
    "        if len(guess) != 1:\n",
    "            print('No more than 1 input.')\n",
    "        elif guess in guesses:\n",
    "            print('Already guessed.')\n",
    "        elif guess.isalpha() == False:\n",
    "            print('Not in alphabet.')\n",
    "        else:\n",
    "            return guess\n",
    "    \n",
    "    def runGame(letter, word, guesses, guess):\n",
    "#         word = Game.getWord()\n",
    "        print(\"Word: \", word)\n",
    "        print(\"Letter: \", letter)\n",
    "        while len(guesses) <= 6:\n",
    "            Game.display(letter, word, guesses)\n",
    "            guess = Game.guessed(guesses)\n",
    "            while guess == None:                         # check if guess is None type, cycle until not\n",
    "                guess = Game.guessed(guesses)\n",
    "            if guess in word.upper():\n",
    "                if guess in letter:\n",
    "                    continue\n",
    "                else:\n",
    "                    letter = letter + guess\n",
    "                    print(\"len(letter): \", len(letter))\n",
    "            else:\n",
    "                guesses = guesses + guess\n",
    "            if len(letter) == len(np.unique(list(word))):\n",
    "                break\n",
    "\n",
    "        if len(letter) == len(np.unique(list(word))): # len(word)\n",
    "            Game.display(letter, word, guesses)\n",
    "            print(\"\\nYou win!\")\n",
    "\n",
    "        elif len(guesses) <= 7:\n",
    "            Game.display(letter, word, guesses)\n",
    "            print(\"\\nHangman!\")\n",
    "            print(\"The word was \", word.upper())"
   ]
  },
  {
   "cell_type": "code",
   "execution_count": 58,
   "metadata": {},
   "outputs": [
    {
     "name": "stdout",
     "output_type": "stream",
     "text": [
      "Word:  experiment\n",
      "Letter:  \n",
      "Guesses:   \n",
      "\n",
      "_ _ _ _ _ _ _ _ _ _ \n",
      "Guess a letter: e\n",
      "len(letter):  1\n",
      "Guesses:   \n",
      "\n",
      "E _ _ E _ _ _ E _ _ _ _ \n",
      "Guess a letter: x\n",
      "len(letter):  2\n",
      "Guesses:   \n",
      "\n",
      "E X _ E _ _ _ E _ _ _ _ \n",
      "Guess a letter: p\n",
      "len(letter):  3\n",
      "Guesses:   \n",
      "\n",
      "E X P E _ _ _ E _ _ _ _ \n",
      "Guess a letter: e\n",
      "Guesses:   \n",
      "\n",
      "E X P E _ _ _ E _ _ _ _ \n",
      "Guess a letter: i\n",
      "len(letter):  4\n",
      "Guesses:   \n",
      "\n",
      "E X P E _ I _ E _ _ _ _ \n",
      "Guess a letter: m\n",
      "len(letter):  5\n",
      "Guesses:   \n",
      "\n",
      "E X P E _ I M E _ _ _ _ \n",
      "Guess a letter: n\n",
      "len(letter):  6\n",
      "Guesses:   \n",
      "\n",
      "E X P E _ I M E N _ _ _ \n",
      "Guess a letter: t\n",
      "len(letter):  7\n",
      "Guesses:   \n",
      "\n",
      "E X P E _ I M E N T _ _ \n",
      "Guess a letter: e\n",
      "Guesses:   \n",
      "\n",
      "E X P E _ I M E N T _ _ \n",
      "Guess a letter: r\n",
      "len(letter):  8\n",
      "Guesses:   \n",
      "\n",
      "E X P E R I M E N T _ _ \n",
      "You win!\n"
     ]
    }
   ],
   "source": [
    "Game.runGame(letter, word, guesses, guess)"
   ]
  },
  {
   "cell_type": "code",
   "execution_count": 16,
   "metadata": {},
   "outputs": [
    {
     "name": "stdout",
     "output_type": "stream",
     "text": [
      "Guesses:   \n",
      "\n",
      "_ _ _ _ _ _ _ blank_arr:  ['_', '_', '_', '_', '_', '_', '_']\n"
     ]
    }
   ],
   "source": [
    "Game.display(letter, word, guesses)"
   ]
  },
  {
   "cell_type": "code",
   "execution_count": 36,
   "metadata": {},
   "outputs": [
    {
     "data": {
      "text/plain": [
       "['E', '_', '_', 'E', '_', '_', '_', 'E', '_', '_']"
      ]
     },
     "execution_count": 36,
     "metadata": {},
     "output_type": "execute_result"
    }
   ],
   "source": [
    "word = 'E__E___E__'\n",
    "word_arr = list(word)\n",
    "word_arr"
   ]
  },
  {
   "cell_type": "code",
   "execution_count": 37,
   "metadata": {},
   "outputs": [],
   "source": [
    "leftover = list(word).count('_')"
   ]
  },
  {
   "cell_type": "code",
   "execution_count": 38,
   "metadata": {},
   "outputs": [
    {
     "data": {
      "text/plain": [
       "7"
      ]
     },
     "execution_count": 38,
     "metadata": {},
     "output_type": "execute_result"
    }
   ],
   "source": [
    "leftover"
   ]
  },
  {
   "cell_type": "code",
   "execution_count": 39,
   "metadata": {},
   "outputs": [
    {
     "data": {
      "text/plain": [
       "10"
      ]
     },
     "execution_count": 39,
     "metadata": {},
     "output_type": "execute_result"
    }
   ],
   "source": [
    "len(word)"
   ]
  },
  {
   "cell_type": "code",
   "execution_count": 11,
   "metadata": {},
   "outputs": [
    {
     "data": {
      "text/plain": [
       "3"
      ]
     },
     "execution_count": 11,
     "metadata": {},
     "output_type": "execute_result"
    }
   ],
   "source": [
    "word_arr.count('_')"
   ]
  },
  {
   "cell_type": "code",
   "execution_count": null,
   "metadata": {
    "collapsed": true
   },
   "outputs": [],
   "source": [
    "word = word.upper()\n",
    "        word_arr = list(word)\n",
    "        blank = '_' * (len(word_arr) - len(letter))"
   ]
  },
  {
   "cell_type": "code",
   "execution_count": 33,
   "metadata": {},
   "outputs": [
    {
     "data": {
      "text/plain": [
       "''"
      ]
     },
     "execution_count": 33,
     "metadata": {},
     "output_type": "execute_result"
    }
   ],
   "source": [
    "letter"
   ]
  },
  {
   "cell_type": "code",
   "execution_count": 7,
   "metadata": {},
   "outputs": [
    {
     "name": "stdout",
     "output_type": "stream",
     "text": [
      "Word:  experiment\n",
      "Letter:  \n",
      "Guesses:   \n",
      "\n",
      "_ _ _ _ _ _ _ _ _ _ \n",
      "Guess a letter: e\n",
      "len(letter):  1\n",
      "Guesses:   \n",
      "\n",
      "E _ _ E _ _ _ E _ _ _ _ \n",
      "Guess a letter: x\n",
      "len(letter):  2\n",
      "Guesses:   \n",
      "\n",
      "E X _ E _ _ _ E _ _ _ _ \n",
      "Guess a letter: p\n",
      "len(letter):  3\n",
      "Guesses:   \n",
      "\n",
      "E X P E _ _ _ E _ _ _ _ \n",
      "Guess a letter: e\n",
      "Guesses:   \n",
      "\n",
      "E X P E _ _ _ E _ _ _ _ \n",
      "Guess a letter: r\n",
      "len(letter):  4\n",
      "Guesses:   \n",
      "\n",
      "E X P E R _ _ E _ _ _ _ \n",
      "Guess a letter: i\n",
      "len(letter):  5\n",
      "Guesses:   \n",
      "\n",
      "E X P E R I _ E _ _ _ _ \n",
      "Guess a letter: m\n",
      "len(letter):  6\n",
      "Guesses:   \n",
      "\n",
      "E X P E R I M E _ _ _ _ \n",
      "Guess a letter: e\n",
      "Guesses:   \n",
      "\n",
      "E X P E R I M E _ _ _ _ \n",
      "Guess a letter: n\n",
      "len(letter):  7\n",
      "Guesses:   \n",
      "\n",
      "E X P E R I M E N _ _ _ \n",
      "Guess a letter: t\n",
      "len(letter):  8\n",
      "Guesses:   \n",
      "\n",
      "E X P E R I M E N T _ _ \n",
      "You win!\n"
     ]
    }
   ],
   "source": [
    "Game.runGame(letter, word, guesses, guess)"
   ]
  },
  {
   "cell_type": "code",
   "execution_count": 8,
   "metadata": {
    "collapsed": true
   },
   "outputs": [],
   "source": [
    "word = 'experiment'"
   ]
  },
  {
   "cell_type": "code",
   "execution_count": 9,
   "metadata": {},
   "outputs": [
    {
     "data": {
      "text/plain": [
       "'experiment'"
      ]
     },
     "execution_count": 9,
     "metadata": {},
     "output_type": "execute_result"
    }
   ],
   "source": [
    "word"
   ]
  },
  {
   "cell_type": "code",
   "execution_count": 22,
   "metadata": {},
   "outputs": [
    {
     "data": {
      "text/plain": [
       "10"
      ]
     },
     "execution_count": 22,
     "metadata": {},
     "output_type": "execute_result"
    }
   ],
   "source": [
    "len(word)"
   ]
  },
  {
   "cell_type": "code",
   "execution_count": 30,
   "metadata": {},
   "outputs": [
    {
     "data": {
      "text/plain": [
       "8"
      ]
     },
     "execution_count": 30,
     "metadata": {},
     "output_type": "execute_result"
    }
   ],
   "source": [
    "len(np.unique(list(word)))"
   ]
  },
  {
   "cell_type": "code",
   "execution_count": 26,
   "metadata": {
    "collapsed": true
   },
   "outputs": [],
   "source": [
    "word_arr = list(word)"
   ]
  },
  {
   "cell_type": "code",
   "execution_count": 18,
   "metadata": {
    "collapsed": true
   },
   "outputs": [],
   "source": [
    "word_array = ['e','x','p','e','r','i','m','e','n','t']"
   ]
  },
  {
   "cell_type": "code",
   "execution_count": 29,
   "metadata": {},
   "outputs": [
    {
     "data": {
      "text/plain": [
       "8"
      ]
     },
     "execution_count": 29,
     "metadata": {},
     "output_type": "execute_result"
    }
   ],
   "source": [
    "len(np.unique(word_arr))"
   ]
  },
  {
   "cell_type": "code",
   "execution_count": 27,
   "metadata": {
    "collapsed": true
   },
   "outputs": [],
   "source": [
    "temp = np.unique(word_arr)"
   ]
  },
  {
   "cell_type": "code",
   "execution_count": 28,
   "metadata": {},
   "outputs": [
    {
     "data": {
      "text/plain": [
       "8"
      ]
     },
     "execution_count": 28,
     "metadata": {},
     "output_type": "execute_result"
    }
   ],
   "source": [
    "len(temp)"
   ]
  },
  {
   "cell_type": "code",
   "execution_count": 6,
   "metadata": {},
   "outputs": [
    {
     "name": "stdout",
     "output_type": "stream",
     "text": [
      "Word:  weather\n",
      "Guesses:   \n",
      "\n",
      "_ _ _ _ _ _ _ \n",
      "Guess a letter: e\n",
      "Guesses:   \n",
      "\n",
      "_ E _ _ _ E _ _ \n",
      "Guess a letter: e\n",
      "Guesses:   \n",
      "\n",
      "_ E _ _ _ E _ _ \n",
      "Guess a letter: e\n",
      "Guesses:   \n",
      "\n",
      "_ E _ _ _ E _ _ \n",
      "Guess a letter: w\n",
      "Guesses:   \n",
      "\n",
      "W E _ _ _ E _ _ \n",
      "Guess a letter: a\n",
      "Guesses:   \n",
      "\n",
      "W E A _ _ E _ _ \n",
      "Guess a letter: t\n",
      "Guesses:   \n",
      "\n",
      "W E A T _ E _ _ \n",
      "Guess a letter: p\n",
      "Guesses:  P \n",
      "\n",
      "W E A T _ E _ _ \n",
      "Guess a letter: h\n",
      "Guesses:  P \n",
      "\n",
      "W E A T H E _ _ \n",
      "Guess a letter: r\n",
      "Guesses:  P \n",
      "\n",
      "W E A T H E R _ \n",
      "Guess a letter: d\n",
      "Guesses:  PD \n",
      "\n",
      "W E A T H E R _ \n",
      "Guess a letter: a\n",
      "Guesses:  PD \n",
      "\n",
      "W E A T H E R _ \n",
      "Guess a letter: q\n",
      "Guesses:  PDQ \n",
      "\n",
      "W E A T H E R _ \n",
      "Guess a letter: w\n",
      "Guesses:  PDQ \n",
      "\n",
      "W E A T H E R _ \n",
      "Guess a letter: e\n",
      "Guesses:  PDQ \n",
      "\n",
      "W E A T H E R _ \n",
      "Guess a letter: r\n",
      "Guesses:  PDQ \n",
      "\n",
      "W E A T H E R _ \n",
      "Guess a letter: t\n",
      "Guesses:  PDQ \n",
      "\n",
      "W E A T H E R _ \n",
      "Guess a letter: y\n",
      "Guesses:  PDQY \n",
      "\n",
      "W E A T H E R _ \n",
      "Guess a letter: u\n",
      "Guesses:  PDQYU \n",
      "\n",
      "W E A T H E R _ \n",
      "Guess a letter: io\n",
      "No more than 1 input.\n",
      "\n",
      "Guess a letter: p\n",
      "Already guessed.\n",
      "\n",
      "Guess a letter: a\n",
      "Guesses:  PDQYU \n",
      "\n",
      "W E A T H E R _ \n",
      "Guess a letter: s\n",
      "Guesses:  PDQYUS \n",
      "\n",
      "W E A T H E R _ \n",
      "Guess a letter: d\n",
      "Already guessed.\n",
      "\n",
      "Guess a letter: f\n",
      "Guesses:  PDQYUSF \n",
      "\n",
      "W E A T H E R _ \n",
      "Hangman!\n"
     ]
    }
   ],
   "source": []
  },
  {
   "cell_type": "code",
   "execution_count": 55,
   "metadata": {},
   "outputs": [
    {
     "data": {
      "text/plain": [
       "''"
      ]
     },
     "execution_count": 55,
     "metadata": {},
     "output_type": "execute_result"
    }
   ],
   "source": [
    "word"
   ]
  },
  {
   "cell_type": "code",
   "execution_count": 16,
   "metadata": {},
   "outputs": [
    {
     "data": {
      "text/plain": [
       "'computer'"
      ]
     },
     "execution_count": 16,
     "metadata": {},
     "output_type": "execute_result"
    }
   ],
   "source": [
    "word"
   ]
  },
  {
   "cell_type": "code",
   "execution_count": 9,
   "metadata": {},
   "outputs": [
    {
     "name": "stdout",
     "output_type": "stream",
     "text": [
      "Guesses:   \n",
      "\n",
      "_ _ _ _ _ _ _ _ Guess a letter: C\n",
      "Hangman!\n"
     ]
    }
   ],
   "source": [
    "Game.runGame(letter, word, guesses, guess)"
   ]
  },
  {
   "cell_type": "code",
   "execution_count": 32,
   "metadata": {},
   "outputs": [
    {
     "name": "stdout",
     "output_type": "stream",
     "text": [
      "Guesses:   \n",
      "\n",
      "_ _ _ _ _ _ _ _ Guess a letter: C\n",
      "Guesses:   \n",
      "\n",
      "C _ _ _ _ _ _ _ Guess a letter: c\n",
      "Guesses:   \n",
      "\n",
      "C _ _ _ _ _ _ _ Guess a letter: c\n",
      "Guesses:   \n",
      "\n",
      "C _ _ _ _ _ _ _ Guess a letter: C\n",
      "Guesses:   \n",
      "\n",
      "C _ _ _ _ _ _ _ Guess a letter: c\n",
      "Guesses:   \n",
      "\n",
      "C _ _ _ _ _ _ _ Guess a letter: c\n",
      "Guesses:   \n",
      "\n",
      "C _ _ _ _ _ _ _ Guess a letter: C\n",
      "Guesses:   \n",
      "\n",
      "C _ _ _ _ _ _ _ Guess a letter: c\n",
      "Guesses:   \n",
      "\n",
      "C _ _ _ _ _ _ _ Guess a letter: o\n",
      "Guesses:   \n",
      "\n",
      "C O _ _ _ _ _ _ Guess a letter: m\n",
      "Guesses:   \n",
      "\n",
      "C O M _ _ _ _ _ Guess a letter: p\n",
      "Guesses:   \n",
      "\n",
      "C O M P _ _ _ _ Guess a letter: u\n",
      "Guesses:   \n",
      "\n",
      "C O M P U _ _ _ Guess a letter: t\n",
      "Guesses:   \n",
      "\n",
      "C O M P U T _ _ Guess a letter: e\n",
      "Guesses:   \n",
      "\n",
      "C O M P U T E _ Guess a letter: r\n",
      "Guesses:   \n",
      "\n",
      "C O M P U T E R You win!\n"
     ]
    }
   ],
   "source": [
    "while len(guesses) <= 6:\n",
    "    Game.display(letter, word, guesses)\n",
    "    guess = Game.guessed(guesses)\n",
    "    while guess == None:\n",
    "        guess = Game.guessed(guesses)\n",
    "    if guess in word.upper():\n",
    "        if guess in letter:\n",
    "            continue\n",
    "        else:\n",
    "            letter = letter + guess\n",
    "    else:\n",
    "        guesses = guesses + guess\n",
    "    if len(letter) == len(word):\n",
    "        break\n",
    "\n",
    "if len(letter) == len(word):\n",
    "    Game.display(letter, word, guesses)\n",
    "    print(\"You win!\")\n",
    "    \n",
    "elif len(guesses) <= 7:\n",
    "    Game.display(letter, word, guesses)\n",
    "    print(\"Hangman!\")"
   ]
  },
  {
   "cell_type": "code",
   "execution_count": 13,
   "metadata": {},
   "outputs": [
    {
     "data": {
      "text/plain": [
       "'COMPUTER'"
      ]
     },
     "execution_count": 13,
     "metadata": {},
     "output_type": "execute_result"
    }
   ],
   "source": [
    "letter"
   ]
  },
  {
   "cell_type": "code",
   "execution_count": 8,
   "metadata": {},
   "outputs": [
    {
     "data": {
      "text/plain": [
       "'AVSBNLDQ'"
      ]
     },
     "execution_count": 8,
     "metadata": {},
     "output_type": "execute_result"
    }
   ],
   "source": [
    "guesses"
   ]
  },
  {
   "cell_type": "code",
   "execution_count": 19,
   "metadata": {},
   "outputs": [
    {
     "ename": "AttributeError",
     "evalue": "type object 'Game' has no attribute 'Guessed'",
     "output_type": "error",
     "traceback": [
      "\u001b[1;31m---------------------------------------------------------------------------\u001b[0m",
      "\u001b[1;31mAttributeError\u001b[0m                            Traceback (most recent call last)",
      "\u001b[1;32m<ipython-input-19-464a2b4180f0>\u001b[0m in \u001b[0;36m<module>\u001b[1;34m()\u001b[0m\n\u001b[1;32m----> 1\u001b[1;33m \u001b[0mletter\u001b[0m \u001b[1;33m=\u001b[0m \u001b[0mGame\u001b[0m\u001b[1;33m.\u001b[0m\u001b[0mGuessed\u001b[0m\u001b[1;33m(\u001b[0m\u001b[0mguesses\u001b[0m\u001b[1;33m)\u001b[0m\u001b[1;33m\u001b[0m\u001b[0m\n\u001b[0m",
      "\u001b[1;31mAttributeError\u001b[0m: type object 'Game' has no attribute 'Guessed'"
     ]
    }
   ],
   "source": [
    "letter = Game.Guessed(guesses)"
   ]
  },
  {
   "cell_type": "code",
   "execution_count": 28,
   "metadata": {},
   "outputs": [
    {
     "name": "stdout",
     "output_type": "stream",
     "text": [
      "Guesses:   \n",
      "\n",
      "C _ _ _ _ _ _ _ _ "
     ]
    }
   ],
   "source": [
    "Game.Display(letter, word, guesses)"
   ]
  },
  {
   "cell_type": "code",
   "execution_count": null,
   "metadata": {
    "collapsed": true
   },
   "outputs": [],
   "source": []
  },
  {
   "cell_type": "code",
   "execution_count": null,
   "metadata": {
    "collapsed": true
   },
   "outputs": [],
   "source": [
    "class Game():\n",
    "    \n",
    "    def State():  \n",
    "    \n",
    "    def Task1():\n",
    "        \n",
    "    def Task2():\n",
    "    \n",
    "    def Task3():"
   ]
  },
  {
   "cell_type": "code",
   "execution_count": null,
   "metadata": {
    "collapsed": true
   },
   "outputs": [],
   "source": []
  }
 ],
 "metadata": {
  "kernelspec": {
   "display_name": "Python 3",
   "language": "python",
   "name": "python3"
  },
  "language_info": {
   "codemirror_mode": {
    "name": "ipython",
    "version": 3
   },
   "file_extension": ".py",
   "mimetype": "text/x-python",
   "name": "python",
   "nbconvert_exporter": "python",
   "pygments_lexer": "ipython3",
   "version": "3.6.3"
  }
 },
 "nbformat": 4,
 "nbformat_minor": 2
}
