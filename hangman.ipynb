{
 "cells": [
  {
   "cell_type": "markdown",
   "metadata": {},
   "source": [
    "**CST 438 Software Engineering - Assignment 1**"
   ]
  },
  {
   "cell_type": "markdown",
   "metadata": {},
   "source": [
    "**HANGMAN GAME**"
   ]
  },
  {
   "cell_type": "markdown",
   "metadata": {},
   "source": [
    "***"
   ]
  },
  {
   "cell_type": "markdown",
   "metadata": {},
   "source": [
    "**Part 1 – Creating a GitHub repository \\ Project**"
   ]
  },
  {
   "cell_type": "code",
   "execution_count": 23,
   "metadata": {
    "collapsed": true
   },
   "outputs": [],
   "source": [
    "# web based hangman game where all processing and game content \n",
    "# will be handled and delivered by an http server program."
   ]
  },
  {
   "cell_type": "code",
   "execution_count": 24,
   "metadata": {
    "collapsed": true
   },
   "outputs": [],
   "source": [
    "# import necessary libs\n",
    "import pandas as pd\n",
    "import numpy as np\n"
   ]
  },
  {
   "cell_type": "code",
   "execution_count": 25,
   "metadata": {
    "collapsed": true
   },
   "outputs": [],
   "source": [
    "# global values\n",
    "word = 'computer'  # test word\n",
    "word_list = pd.read_csv('./words.csv')  # import word list\n",
    "letter = ''  # 'try' variable holder\n",
    "guesses = ''  # holds guessed letters"
   ]
  },
  {
   "cell_type": "code",
   "execution_count": 26,
   "metadata": {},
   "outputs": [],
   "source": [
    "class Game():\n",
    "    \n",
    "    def Display(letter, word, guesses):\n",
    "        word = word.upper()\n",
    "        blank = '_' * len(word)  # display blanks\n",
    "        guesses = guesses.upper()\n",
    "        \n",
    "        print(\"Guesses: \", guesses, end=' ')\n",
    "        print('\\n')\n",
    "        \n",
    "        for l in range(len(word)):  # replace blanks if correct 'try'\n",
    "            if word[l] in letter:\n",
    "                blank = blank[:l] + word[l] + blank[l:]  # update blanks\n",
    "        \n",
    "        for l in blank:\n",
    "            print(l, end=' ')\n",
    "    \n",
    "    def Guessed(guesses):\n",
    "        guess = input('Guess a letter: ')\n",
    "        guess = guess.upper() # standardize input to uppercase\n",
    "        if len(guess) != 1:\n",
    "            print('No more than 1 input.')\n",
    "            guess = Game.Guessed(guesses)\n",
    "        elif guess in guesses:\n",
    "            print('Already guessed.')\n",
    "            guess = Game.Guessed(guesses)\n",
    "        elif guess.isalpha() == False:\n",
    "            print('Not in alphabet.')\n",
    "            guess = Game.Guessed(guesses)\n",
    "        else:\n",
    "            return guess\n",
    "        \n",
    "    "
   ]
  },
  {
   "cell_type": "code",
   "execution_count": 27,
   "metadata": {},
   "outputs": [
    {
     "name": "stdout",
     "output_type": "stream",
     "text": [
      "Guess a letter: C\n"
     ]
    }
   ],
   "source": [
    "letter = Game.Guessed(guesses)"
   ]
  },
  {
   "cell_type": "code",
   "execution_count": 28,
   "metadata": {},
   "outputs": [
    {
     "name": "stdout",
     "output_type": "stream",
     "text": [
      "Guesses:   \n",
      "\n",
      "C _ _ _ _ _ _ _ _ "
     ]
    }
   ],
   "source": [
    "Game.Display(letter, word, guesses)"
   ]
  },
  {
   "cell_type": "code",
   "execution_count": null,
   "metadata": {},
   "outputs": [],
   "source": [
    "class Game():\n",
    "    \n",
    "    def State():  \n",
    "    \n",
    "    def Task1():\n",
    "        \n",
    "    def Task2():\n",
    "    \n",
    "    def Task3():"
   ]
  },
  {
   "cell_type": "code",
   "execution_count": null,
   "metadata": {
    "collapsed": true
   },
   "outputs": [],
   "source": []
  }
 ],
 "metadata": {
  "kernelspec": {
   "display_name": "Python 3",
   "language": "python",
   "name": "python3"
  },
  "language_info": {
   "codemirror_mode": {
    "name": "ipython",
    "version": 3
   },
   "file_extension": ".py",
   "mimetype": "text/x-python",
   "name": "python",
   "nbconvert_exporter": "python",
   "pygments_lexer": "ipython3",
   "version": "3.6.3"
  }
 },
 "nbformat": 4,
 "nbformat_minor": 2
}
