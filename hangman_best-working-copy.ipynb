{
 "cells": [
  {
   "cell_type": "markdown",
   "metadata": {},
   "source": [
    "**CST 438 Software Engineering - Assignment 1**"
   ]
  },
  {
   "cell_type": "markdown",
   "metadata": {},
   "source": [
    "**HANGMAN GAME**"
   ]
  },
  {
   "cell_type": "markdown",
   "metadata": {},
   "source": [
    "***"
   ]
  },
  {
   "cell_type": "markdown",
   "metadata": {},
   "source": [
    "**Part 1 – Creating a GitHub repository \\ Project**"
   ]
  },
  {
   "cell_type": "code",
   "execution_count": 1,
   "metadata": {
    "collapsed": true
   },
   "outputs": [],
   "source": [
    "# web based hangman game where all processing and game content \n",
    "# will be handled and delivered by an http server program."
   ]
  },
  {
   "cell_type": "code",
   "execution_count": 2,
   "metadata": {
    "collapsed": true
   },
   "outputs": [],
   "source": [
    "# import necessary libs\n",
    "import csv           # for importing words list\n",
    "import random\n",
    "import numpy as np   # for unique"
   ]
  },
  {
   "cell_type": "code",
   "execution_count": 3,
   "metadata": {
    "collapsed": true
   },
   "outputs": [],
   "source": [
    "# import word list csv into a list\n",
    "word_list = []                  # empty list\n",
    "\n",
    "with open('./words.csv') as w:  # import words list \n",
    "    reader = csv.reader(w)\n",
    "    for row in reader:          # read words list into word_list\n",
    "        for i in row:\n",
    "            word_list.append(i)"
   ]
  },
  {
   "cell_type": "code",
   "execution_count": 4,
   "metadata": {},
   "outputs": [
    {
     "name": "stdout",
     "output_type": "stream",
     "text": [
      "['other', 'there', 'which', 'their', 'about', 'write', 'would', 'these', 'thing', 'could', 'number', 'sound', 'people', 'water', 'first', 'place', 'where', 'after', 'little', 'round', 'every', 'under', 'through', 'sentence', 'great', 'think', 'differ', 'cause', 'before', 'right', 'three', 'small', 'large', 'spell', 'follow', 'change', 'light', 'house', 'picture', 'again', 'animal', 'point', 'mother', 'world', 'build', 'earth', 'father', 'stand', 'should', 'country', 'found', 'answer', 'school', 'study', 'still', 'learn', 'plant', 'cover', 'between', 'state', 'never', 'thought', 'cross', 'start', 'might', 'story', \"don't\", 'while', 'press', 'close', 'night', 'north', 'together', 'white', 'children', 'begin', 'example', 'paper', 'group', 'always', 'music', 'those', 'often', 'letter', 'until', 'river', 'second', 'carry', 'science', 'friend', 'began', 'mountain', 'horse', 'watch', 'color', 'enough', 'plain', 'usual', 'young', 'ready', 'above', 'though', 'family', 'direct', 'leave', 'measure', 'product', 'black', 'short', 'numeral', 'class', 'question', 'happen', 'complete', 'order', 'south', 'problem', 'piece', 'since', 'whole', 'space', 'heard', 'better', 'during', 'hundred', 'remember', 'early', 'ground', 'interest', 'reach', 'listen', 'table', 'travel', 'morning', 'simple', 'several', 'vowel', 'toward', 'against', 'pattern', 'center', 'person', 'money', 'serve', 'appear', 'govern', 'notice', 'voice', 'power', 'certain', 'machine', 'figure', 'field', 'correct', 'pound', 'beauty', 'drive', 'stood', 'contain', 'front', 'teach', 'final', 'green', 'quick', 'develop', 'ocean', 'minute', 'strong', 'special', 'behind', 'clear', 'produce', 'street', 'multiply', 'nothing', 'course', 'wheel', 'force', 'object', 'decide', 'surface', 'island', 'system', 'record', 'common', 'possible', 'plane', 'stead', 'wonder', 'laugh', 'thousand', 'check', 'shape', 'equate', 'brought', 'bring', 'distant', 'paint', 'language', 'among', 'grand', 'heart', 'present', 'heavy', 'dance', 'engine', 'position', 'material', 'settle', 'speak', 'weight', 'general', 'matter', 'circle', 'include', 'divide', 'syllable', 'perhaps', 'sudden', 'count', 'square', 'reason', 'length', 'represent', 'subject', 'region', 'energy', 'probable', 'brother', 'believe', 'fraction', 'forest', 'window', 'store', 'summer', 'train', 'sleep', 'prove', 'exercise', 'catch', 'mount', 'board', 'winter', 'written', 'instrument', 'glass', 'grass', 'visit', 'bright', 'weather', 'month', 'million', 'finish', 'happy', 'flower', 'clothe', 'strange', 'eight', 'village', 'raise', 'solve', 'metal', 'whether', 'seven', 'paragraph', 'third', 'shall', 'describe', 'floor', 'either', 'result', 'century', 'consider', 'coast', 'phrase', 'silent', 'temperature', 'finger', 'industry', 'value', 'fight', 'excite', 'natural', 'sense', 'quite', 'broke', 'middle', 'moment', 'scale', 'spring', 'observe', 'child', 'straight', 'consonant', 'nation', 'dictionary', 'speed', 'method', 'organ', 'section', 'dress', 'cloud', 'surprise', 'quiet', 'stone', 'climb', 'design', 'experiment', 'bottom', 'single', 'stick', 'twenty', 'smile', 'crease', 'trade', 'melody', 'office', 'receive', 'mouth', 'exact', 'symbol', 'least', 'trouble', 'shout', 'except', 'wrote', 'suggest', 'clean', 'break', 'blood', 'touch', 'brown', 'garden', 'equal', 'choose', 'collect', 'control', 'decimal', 'gentle', 'woman', 'captain', 'practice', 'separate', 'difficult', 'doctor', 'please', 'protect', 'whose', 'locate', 'character', 'insect', 'caught', 'period', 'indicate', 'radio', 'spoke', 'human', 'history', 'effect', 'electric', 'expect', 'modern', 'element', 'student', 'corner', 'party', 'supply', 'imagine', 'provide', 'agree', 'capital', \"won't\", 'chair', 'danger', 'fruit', 'thick', 'soldier', 'process', 'operate', 'guess', 'necessary', 'sharp', 'create', 'neighbor', 'rather', 'crowd', 'compare', 'string', 'depend', 'famous', 'dollar', 'stream', 'sight', 'triangle', 'planet', 'hurry', 'chief', 'colony', 'clock', 'enter', 'major', 'fresh', 'search', 'yellow', 'allow', 'print', 'desert', 'current', 'continue', 'block', 'chart', 'success', 'company', 'subtract', 'event', 'particular', 'opposite', 'shoulder', 'spread', 'arrange', 'invent', 'cotton', 'determine', 'quart', 'truck', 'noise', 'level', 'chance', 'gather', 'stretch', 'throw', 'shine', 'property', 'column', 'molecule', 'select', 'wrong', 'repeat', 'require', 'broad', 'prepare', 'plural', 'anger', 'claim', 'continent', 'oxygen', 'sugar', 'death', 'pretty', 'skill', 'women', 'season', 'solution', 'magnet', 'silver', 'thank', 'branch', 'match', 'suffix', 'especially', 'afraid', 'sister', 'steel', 'discuss', 'forward', 'similar', 'guide', 'experience', 'score', 'apple', 'bought', 'pitch', 'dream', 'evening', 'condition', 'total', 'basic', 'smell', 'valley', 'double', 'arrive', 'master', 'track', 'parent', 'shore', 'division', 'sheet', 'substance', 'favor', 'connect', 'spend', 'chord', 'original', 'share', 'station', 'bread', 'charge', 'proper', 'offer', 'segment', 'slave', 'instant', 'market', 'degree', 'populate', 'chick', 'enemy', 'reply', 'drink', 'occur', 'support', 'speech', 'nature', 'range', 'steam', 'motion', 'liquid', 'meant', 'quotient', 'teeth', 'shell']\n"
     ]
    }
   ],
   "source": [
    "print(word_list)"
   ]
  },
  {
   "cell_type": "code",
   "execution_count": 5,
   "metadata": {
    "collapsed": true
   },
   "outputs": [],
   "source": [
    "# global values\n",
    "word = ''     # empty string to eventually hold word\n",
    "letter = ''   # right guess variable holder\n",
    "guesses = ''  # holds guessed letters\n",
    "guess = None  # None type to eventually hold current guess"
   ]
  },
  {
   "cell_type": "code",
   "execution_count": 6,
   "metadata": {
    "collapsed": true
   },
   "outputs": [],
   "source": [
    "class Game():\n",
    "    \n",
    "    def getWord():                                        # randomly pick a word from word list\n",
    "        for n in range(len(word_list)):\n",
    "            num = random.randint(0,len(word_list)-1)      # run random, get random num in range\n",
    "        word = word_list[num]\n",
    "        return word\n",
    "    \n",
    "    def display(letter, word, guesses):\n",
    "        word = word.upper()\n",
    "        blank = '_' * len(word)                            # display blanks\n",
    "        guesses = guesses.upper()\n",
    "        \n",
    "        print(\"Guesses: \", guesses, end=' ')\n",
    "        print('\\n')\n",
    "        \n",
    "        for l in range(len(word)):                         # replace blanks if correct letter \n",
    "            if word[l] in letter:\n",
    "                blank = blank[:l] + word[l] + blank[l+1:]  # update blanks\n",
    "        \n",
    "        for l in blank:\n",
    "            print(l, end=' ')\n",
    "    \n",
    "    def guessed(guesses):\n",
    "        guess = input('\\nGuess a letter: ')\n",
    "        guess = guess.upper()                              # standardize input to uppercase\n",
    "        if len(guess) != 1:\n",
    "            print('No more than 1 input.')\n",
    "        elif guess in guesses:\n",
    "            print('Already guessed.')\n",
    "        elif guess.isalpha() == False:\n",
    "            print('Not in alphabet.')\n",
    "        else:\n",
    "            return guess\n",
    "    \n",
    "    def runGame(letter, word, guesses, guess):\n",
    "        word = Game.getWord()\n",
    "        while len(guesses) <= 6:\n",
    "            Game.display(letter, word, guesses)\n",
    "            guess = Game.guessed(guesses)\n",
    "            while guess == None:                         # check if guess is None type, cycle until not\n",
    "                guess = Game.guessed(guesses)\n",
    "            if guess in word.upper():\n",
    "                if guess in letter:\n",
    "                    print('Already guessed.')\n",
    "                    continue\n",
    "                else:\n",
    "                    letter = letter + guess\n",
    "            else:\n",
    "                guesses = guesses + guess\n",
    "            if len(letter) == len(np.unique(list(word))): # break loop for win condition\n",
    "                break\n",
    "\n",
    "        if len(letter) == len(np.unique(list(word))):    # double check win condition\n",
    "            Game.display(letter, word, guesses)\n",
    "            print(\"\\nYou win!\")\n",
    "\n",
    "        elif len(guesses) <= 7:                          # check loss condition\n",
    "            Game.display(letter, word, guesses)\n",
    "            print(\"\\nHangman!\")\n",
    "            print(\"The word was\", word.upper())\n",
    "        \n",
    "#         playAgain = input('\\nPlay Again? (y/n: ')\n",
    "#         if playAgain.lower() == 'y':\n",
    "#             Game.runGame(letter, word, guesses, guess)\n",
    "#         if playAgain.lower() == 'n':\n",
    "#             print(\"/nGoodbye!\")\n",
    "#             break"
   ]
  },
  {
   "cell_type": "code",
   "execution_count": 7,
   "metadata": {},
   "outputs": [
    {
     "name": "stdout",
     "output_type": "stream",
     "text": [
      "Guesses:   \n",
      "\n",
      "_ _ _ _ _ _ _ \n",
      "Guess a letter: a\n",
      "Guesses:  A \n",
      "\n",
      "_ _ _ _ _ _ _ \n",
      "Guess a letter: e\n",
      "Guesses:  A \n",
      "\n",
      "_ _ _ _ _ E _ \n",
      "Guess a letter: u\n",
      "Guesses:  AU \n",
      "\n",
      "_ _ _ _ _ E _ \n",
      "Guess a letter: i\n",
      "Guesses:  AU \n",
      "\n",
      "_ _ I _ _ E _ \n",
      "Guess a letter: o\n",
      "Guesses:  AUO \n",
      "\n",
      "_ _ I _ _ E _ \n",
      "Guess a letter: u\n",
      "Already guessed.\n",
      "\n",
      "Guess a letter: r\n",
      "Guesses:  AUO \n",
      "\n",
      "_ R I _ _ E _ \n",
      "Guess a letter: s\n",
      "Guesses:  AUOS \n",
      "\n",
      "_ R I _ _ E _ \n",
      "Guess a letter: v\n",
      "Guesses:  AUOSV \n",
      "\n",
      "_ R I _ _ E _ \n",
      "Guess a letter: y\n",
      "Guesses:  AUOSVY \n",
      "\n",
      "_ R I _ _ E _ \n",
      "Guess a letter: l\n",
      "Guesses:  AUOSVYL \n",
      "\n",
      "_ R I _ _ E _ \n",
      "Hangman!\n",
      "The word was WRITTEN\n"
     ]
    }
   ],
   "source": [
    "Game.runGame(letter, word, guesses, guess)"
   ]
  },
  {
   "cell_type": "code",
   "execution_count": null,
   "metadata": {
    "collapsed": true
   },
   "outputs": [],
   "source": []
  }
 ],
 "metadata": {
  "kernelspec": {
   "display_name": "Python 3",
   "language": "python",
   "name": "python3"
  },
  "language_info": {
   "codemirror_mode": {
    "name": "ipython",
    "version": 3
   },
   "file_extension": ".py",
   "mimetype": "text/x-python",
   "name": "python",
   "nbconvert_exporter": "python",
   "pygments_lexer": "ipython3",
   "version": "3.6.3"
  }
 },
 "nbformat": 4,
 "nbformat_minor": 2
}
