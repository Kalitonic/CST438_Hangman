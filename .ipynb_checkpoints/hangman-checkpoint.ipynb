{
 "cells": [
  {
   "cell_type": "markdown",
   "metadata": {},
   "source": [
    "**CST 438 Software Engineering - Assignment 1**"
   ]
  },
  {
   "cell_type": "markdown",
   "metadata": {},
   "source": [
    "**HANGMAN GAME**"
   ]
  },
  {
   "cell_type": "markdown",
   "metadata": {},
   "source": [
    "***"
   ]
  },
  {
   "cell_type": "markdown",
   "metadata": {},
   "source": [
    "**Part 1 – Creating a GitHub repository \\ Project**"
   ]
  },
  {
   "cell_type": "code",
   "execution_count": 23,
   "metadata": {
    "collapsed": true
   },
   "outputs": [],
   "source": [
    "# web based hangman game where all processing and game content \n",
    "# will be handled and delivered by an http server program."
   ]
  },
  {
   "cell_type": "code",
   "execution_count": 33,
   "metadata": {
    "collapsed": true
   },
   "outputs": [],
   "source": [
    "# import necessary libs\n",
    "import pandas as pd\n",
    "import numpy as np\n"
   ]
  },
  {
   "cell_type": "code",
   "execution_count": 34,
   "metadata": {
    "collapsed": true
   },
   "outputs": [],
   "source": [
    "# global values\n",
    "word = 'computer'  # test word\n",
    "word_list = pd.read_csv('./words.csv')  # import word list\n",
    "letter = ''  # 'try' variable holder\n",
    "guesses = ''  # holds guessed letters\n",
    "guess = None"
   ]
  },
  {
   "cell_type": "code",
   "execution_count": 28,
   "metadata": {
    "collapsed": true
   },
   "outputs": [
    {
     "data": {
      "text/html": [
       "<div>\n",
       "<style>\n",
       "    .dataframe thead tr:only-child th {\n",
       "        text-align: right;\n",
       "    }\n",
       "\n",
       "    .dataframe thead th {\n",
       "        text-align: left;\n",
       "    }\n",
       "\n",
       "    .dataframe tbody tr th {\n",
       "        vertical-align: top;\n",
       "    }\n",
       "</style>\n",
       "<table border=\"1\" class=\"dataframe\">\n",
       "  <thead>\n",
       "    <tr style=\"text-align: right;\">\n",
       "      <th></th>\n",
       "      <th>other</th>\n",
       "    </tr>\n",
       "  </thead>\n",
       "  <tbody>\n",
       "    <tr>\n",
       "      <th>0</th>\n",
       "      <td>there</td>\n",
       "    </tr>\n",
       "    <tr>\n",
       "      <th>1</th>\n",
       "      <td>which</td>\n",
       "    </tr>\n",
       "    <tr>\n",
       "      <th>2</th>\n",
       "      <td>their</td>\n",
       "    </tr>\n",
       "    <tr>\n",
       "      <th>3</th>\n",
       "      <td>about</td>\n",
       "    </tr>\n",
       "    <tr>\n",
       "      <th>4</th>\n",
       "      <td>write</td>\n",
       "    </tr>\n",
       "    <tr>\n",
       "      <th>5</th>\n",
       "      <td>would</td>\n",
       "    </tr>\n",
       "    <tr>\n",
       "      <th>6</th>\n",
       "      <td>these</td>\n",
       "    </tr>\n",
       "    <tr>\n",
       "      <th>7</th>\n",
       "      <td>thing</td>\n",
       "    </tr>\n",
       "    <tr>\n",
       "      <th>8</th>\n",
       "      <td>could</td>\n",
       "    </tr>\n",
       "    <tr>\n",
       "      <th>9</th>\n",
       "      <td>number</td>\n",
       "    </tr>\n",
       "    <tr>\n",
       "      <th>10</th>\n",
       "      <td>sound</td>\n",
       "    </tr>\n",
       "    <tr>\n",
       "      <th>11</th>\n",
       "      <td>people</td>\n",
       "    </tr>\n",
       "    <tr>\n",
       "      <th>12</th>\n",
       "      <td>water</td>\n",
       "    </tr>\n",
       "    <tr>\n",
       "      <th>13</th>\n",
       "      <td>first</td>\n",
       "    </tr>\n",
       "    <tr>\n",
       "      <th>14</th>\n",
       "      <td>place</td>\n",
       "    </tr>\n",
       "    <tr>\n",
       "      <th>15</th>\n",
       "      <td>where</td>\n",
       "    </tr>\n",
       "    <tr>\n",
       "      <th>16</th>\n",
       "      <td>after</td>\n",
       "    </tr>\n",
       "    <tr>\n",
       "      <th>17</th>\n",
       "      <td>little</td>\n",
       "    </tr>\n",
       "    <tr>\n",
       "      <th>18</th>\n",
       "      <td>round</td>\n",
       "    </tr>\n",
       "    <tr>\n",
       "      <th>19</th>\n",
       "      <td>every</td>\n",
       "    </tr>\n",
       "    <tr>\n",
       "      <th>20</th>\n",
       "      <td>under</td>\n",
       "    </tr>\n",
       "    <tr>\n",
       "      <th>21</th>\n",
       "      <td>through</td>\n",
       "    </tr>\n",
       "    <tr>\n",
       "      <th>22</th>\n",
       "      <td>sentence</td>\n",
       "    </tr>\n",
       "    <tr>\n",
       "      <th>23</th>\n",
       "      <td>great</td>\n",
       "    </tr>\n",
       "    <tr>\n",
       "      <th>24</th>\n",
       "      <td>think</td>\n",
       "    </tr>\n",
       "    <tr>\n",
       "      <th>25</th>\n",
       "      <td>differ</td>\n",
       "    </tr>\n",
       "    <tr>\n",
       "      <th>26</th>\n",
       "      <td>cause</td>\n",
       "    </tr>\n",
       "    <tr>\n",
       "      <th>27</th>\n",
       "      <td>before</td>\n",
       "    </tr>\n",
       "    <tr>\n",
       "      <th>28</th>\n",
       "      <td>right</td>\n",
       "    </tr>\n",
       "    <tr>\n",
       "      <th>29</th>\n",
       "      <td>three</td>\n",
       "    </tr>\n",
       "    <tr>\n",
       "      <th>...</th>\n",
       "      <td>...</td>\n",
       "    </tr>\n",
       "    <tr>\n",
       "      <th>490</th>\n",
       "      <td>chord</td>\n",
       "    </tr>\n",
       "    <tr>\n",
       "      <th>491</th>\n",
       "      <td>original</td>\n",
       "    </tr>\n",
       "    <tr>\n",
       "      <th>492</th>\n",
       "      <td>share</td>\n",
       "    </tr>\n",
       "    <tr>\n",
       "      <th>493</th>\n",
       "      <td>station</td>\n",
       "    </tr>\n",
       "    <tr>\n",
       "      <th>494</th>\n",
       "      <td>bread</td>\n",
       "    </tr>\n",
       "    <tr>\n",
       "      <th>495</th>\n",
       "      <td>charge</td>\n",
       "    </tr>\n",
       "    <tr>\n",
       "      <th>496</th>\n",
       "      <td>proper</td>\n",
       "    </tr>\n",
       "    <tr>\n",
       "      <th>497</th>\n",
       "      <td>offer</td>\n",
       "    </tr>\n",
       "    <tr>\n",
       "      <th>498</th>\n",
       "      <td>segment</td>\n",
       "    </tr>\n",
       "    <tr>\n",
       "      <th>499</th>\n",
       "      <td>slave</td>\n",
       "    </tr>\n",
       "    <tr>\n",
       "      <th>500</th>\n",
       "      <td>instant</td>\n",
       "    </tr>\n",
       "    <tr>\n",
       "      <th>501</th>\n",
       "      <td>market</td>\n",
       "    </tr>\n",
       "    <tr>\n",
       "      <th>502</th>\n",
       "      <td>degree</td>\n",
       "    </tr>\n",
       "    <tr>\n",
       "      <th>503</th>\n",
       "      <td>populate</td>\n",
       "    </tr>\n",
       "    <tr>\n",
       "      <th>504</th>\n",
       "      <td>chick</td>\n",
       "    </tr>\n",
       "    <tr>\n",
       "      <th>505</th>\n",
       "      <td>enemy</td>\n",
       "    </tr>\n",
       "    <tr>\n",
       "      <th>506</th>\n",
       "      <td>reply</td>\n",
       "    </tr>\n",
       "    <tr>\n",
       "      <th>507</th>\n",
       "      <td>drink</td>\n",
       "    </tr>\n",
       "    <tr>\n",
       "      <th>508</th>\n",
       "      <td>occur</td>\n",
       "    </tr>\n",
       "    <tr>\n",
       "      <th>509</th>\n",
       "      <td>support</td>\n",
       "    </tr>\n",
       "    <tr>\n",
       "      <th>510</th>\n",
       "      <td>speech</td>\n",
       "    </tr>\n",
       "    <tr>\n",
       "      <th>511</th>\n",
       "      <td>nature</td>\n",
       "    </tr>\n",
       "    <tr>\n",
       "      <th>512</th>\n",
       "      <td>range</td>\n",
       "    </tr>\n",
       "    <tr>\n",
       "      <th>513</th>\n",
       "      <td>steam</td>\n",
       "    </tr>\n",
       "    <tr>\n",
       "      <th>514</th>\n",
       "      <td>motion</td>\n",
       "    </tr>\n",
       "    <tr>\n",
       "      <th>515</th>\n",
       "      <td>liquid</td>\n",
       "    </tr>\n",
       "    <tr>\n",
       "      <th>516</th>\n",
       "      <td>meant</td>\n",
       "    </tr>\n",
       "    <tr>\n",
       "      <th>517</th>\n",
       "      <td>quotient</td>\n",
       "    </tr>\n",
       "    <tr>\n",
       "      <th>518</th>\n",
       "      <td>teeth</td>\n",
       "    </tr>\n",
       "    <tr>\n",
       "      <th>519</th>\n",
       "      <td>shell</td>\n",
       "    </tr>\n",
       "  </tbody>\n",
       "</table>\n",
       "<p>520 rows × 1 columns</p>\n",
       "</div>"
      ],
      "text/plain": [
       "        other\n",
       "0       there\n",
       "1       which\n",
       "2       their\n",
       "3       about\n",
       "4       write\n",
       "5       would\n",
       "6       these\n",
       "7       thing\n",
       "8       could\n",
       "9      number\n",
       "10      sound\n",
       "11     people\n",
       "12      water\n",
       "13      first\n",
       "14      place\n",
       "15      where\n",
       "16      after\n",
       "17     little\n",
       "18      round\n",
       "19      every\n",
       "20      under\n",
       "21    through\n",
       "22   sentence\n",
       "23      great\n",
       "24      think\n",
       "25     differ\n",
       "26      cause\n",
       "27     before\n",
       "28      right\n",
       "29      three\n",
       "..        ...\n",
       "490     chord\n",
       "491  original\n",
       "492     share\n",
       "493   station\n",
       "494     bread\n",
       "495    charge\n",
       "496    proper\n",
       "497     offer\n",
       "498   segment\n",
       "499     slave\n",
       "500   instant\n",
       "501    market\n",
       "502    degree\n",
       "503  populate\n",
       "504     chick\n",
       "505     enemy\n",
       "506     reply\n",
       "507     drink\n",
       "508     occur\n",
       "509   support\n",
       "510    speech\n",
       "511    nature\n",
       "512     range\n",
       "513     steam\n",
       "514    motion\n",
       "515    liquid\n",
       "516     meant\n",
       "517  quotient\n",
       "518     teeth\n",
       "519     shell\n",
       "\n",
       "[520 rows x 1 columns]"
      ]
     },
     "execution_count": 28,
     "metadata": {},
     "output_type": "execute_result"
    }
   ],
   "source": [
    "word_list"
   ]
  },
  {
   "cell_type": "code",
   "execution_count": 35,
   "metadata": {
    "collapsed": true
   },
   "outputs": [],
   "source": [
    "class Game():\n",
    "    \n",
    "    def display(letter, word, guesses):\n",
    "        word = word.upper()\n",
    "        blank = '_' * (len(word) - len(letter)) # display blanks\n",
    "        guesses = guesses.upper()\n",
    "        \n",
    "        print(\"Guesses: \", guesses, end=' ')\n",
    "        print('\\n')\n",
    "        \n",
    "        for l in range(len(word)):  # replace blanks if correct 'try'\n",
    "            if word[l] in letter:\n",
    "                blank = blank[:l] + word[l] + blank[l:]  # update blanks\n",
    "        \n",
    "        for l in blank:\n",
    "            print(l, end=' ')\n",
    "    \n",
    "    def guessed(guesses):\n",
    "        guess = input('Guess a letter: ')\n",
    "        guess = guess.upper() # standardize input to uppercase\n",
    "        if len(guess) != 1:\n",
    "            print('No more than 1 input.')\n",
    "        elif guess in guesses:\n",
    "            print('Already guessed.')\n",
    "        elif guess.isalpha() == False:\n",
    "            print('Not in alphabet.')\n",
    "        else:\n",
    "            return guess\n",
    "    \n",
    "    def runGame(letter, word, guesses, guess):\n",
    "        while len(guesses) <= 6:\n",
    "            Game.display(letter, word, guesses)\n",
    "            guess = Game.guessed(guesses)\n",
    "            while guess == None:    # check for returned guess, if None run Game.guessed again\n",
    "                guess = Game.guessed(guesses)\n",
    "            if guess in word.upper():\n",
    "                if guess in letter:\n",
    "                    continue\n",
    "                else:\n",
    "                    letter = letter + guess\n",
    "            else:\n",
    "                guesses = guesses + guess\n",
    "            if len(letter) == len(word):\n",
    "                break\n",
    "\n",
    "        if len(letter) == len(word):\n",
    "            Game.display(letter, word, guesses)\n",
    "            print(\"You win!\")\n",
    "\n",
    "        elif len(guesses) <= 7:\n",
    "            Game.display(letter, word, guesses)\n",
    "            print(\"Hangman!\")  "
   ]
  },
  {
   "cell_type": "code",
   "execution_count": 37,
   "metadata": {},
   "outputs": [
    {
     "name": "stdout",
     "output_type": "stream",
     "text": [
      "Guesses:   \n",
      "\n",
      "_ _ _ _ _ _ _ _ Guess a letter: c\n",
      "Guesses:   \n",
      "\n",
      "C _ _ _ _ _ _ _ Guess a letter: o\n",
      "Guesses:   \n",
      "\n",
      "C O _ _ _ _ _ _ Guess a letter: m\n",
      "Guesses:   \n",
      "\n",
      "C O M _ _ _ _ _ Guess a letter: p\n",
      "Guesses:   \n",
      "\n",
      "C O M P _ _ _ _ Guess a letter: u\n",
      "Guesses:   \n",
      "\n",
      "C O M P U _ _ _ Guess a letter: t\n",
      "Guesses:   \n",
      "\n",
      "C O M P U T _ _ Guess a letter: e\n",
      "Guesses:   \n",
      "\n",
      "C O M P U T E _ Guess a letter: r\n",
      "Guesses:   \n",
      "\n",
      "C O M P U T E R You win!\n"
     ]
    }
   ],
   "source": [
    "Game.runGame(letter, word, guesses, guess)"
   ]
  },
  {
   "cell_type": "code",
   "execution_count": 16,
   "metadata": {},
   "outputs": [
    {
     "data": {
      "text/plain": [
       "'computer'"
      ]
     },
     "execution_count": 16,
     "metadata": {},
     "output_type": "execute_result"
    }
   ],
   "source": [
    "word"
   ]
  },
  {
   "cell_type": "code",
   "execution_count": 9,
   "metadata": {},
   "outputs": [
    {
     "name": "stdout",
     "output_type": "stream",
     "text": [
      "Guesses:   \n",
      "\n",
      "_ _ _ _ _ _ _ _ Guess a letter: C\n",
      "Hangman!\n"
     ]
    }
   ],
   "source": [
    "Game.runGame(letter, word, guesses, guess)"
   ]
  },
  {
   "cell_type": "code",
   "execution_count": 32,
   "metadata": {},
   "outputs": [
    {
     "name": "stdout",
     "output_type": "stream",
     "text": [
      "Guesses:   \n",
      "\n",
      "_ _ _ _ _ _ _ _ Guess a letter: C\n",
      "Guesses:   \n",
      "\n",
      "C _ _ _ _ _ _ _ Guess a letter: c\n",
      "Guesses:   \n",
      "\n",
      "C _ _ _ _ _ _ _ Guess a letter: c\n",
      "Guesses:   \n",
      "\n",
      "C _ _ _ _ _ _ _ Guess a letter: C\n",
      "Guesses:   \n",
      "\n",
      "C _ _ _ _ _ _ _ Guess a letter: c\n",
      "Guesses:   \n",
      "\n",
      "C _ _ _ _ _ _ _ Guess a letter: c\n",
      "Guesses:   \n",
      "\n",
      "C _ _ _ _ _ _ _ Guess a letter: C\n",
      "Guesses:   \n",
      "\n",
      "C _ _ _ _ _ _ _ Guess a letter: c\n",
      "Guesses:   \n",
      "\n",
      "C _ _ _ _ _ _ _ Guess a letter: o\n",
      "Guesses:   \n",
      "\n",
      "C O _ _ _ _ _ _ Guess a letter: m\n",
      "Guesses:   \n",
      "\n",
      "C O M _ _ _ _ _ Guess a letter: p\n",
      "Guesses:   \n",
      "\n",
      "C O M P _ _ _ _ Guess a letter: u\n",
      "Guesses:   \n",
      "\n",
      "C O M P U _ _ _ Guess a letter: t\n",
      "Guesses:   \n",
      "\n",
      "C O M P U T _ _ Guess a letter: e\n",
      "Guesses:   \n",
      "\n",
      "C O M P U T E _ Guess a letter: r\n",
      "Guesses:   \n",
      "\n",
      "C O M P U T E R You win!\n"
     ]
    }
   ],
   "source": [
    "while len(guesses) <= 6:\n",
    "    Game.display(letter, word, guesses)\n",
    "    guess = Game.guessed(guesses)\n",
    "    while guess == None:\n",
    "        guess = Game.guessed(guesses)\n",
    "    if guess in word.upper():\n",
    "        if guess in letter:\n",
    "            continue\n",
    "        else:\n",
    "            letter = letter + guess\n",
    "    else:\n",
    "        guesses = guesses + guess\n",
    "    if len(letter) == len(word):\n",
    "        break\n",
    "\n",
    "if len(letter) == len(word):\n",
    "    Game.display(letter, word, guesses)\n",
    "    print(\"You win!\")\n",
    "    \n",
    "elif len(guesses) <= 7:\n",
    "    Game.display(letter, word, guesses)\n",
    "    print(\"Hangman!\")"
   ]
  },
  {
   "cell_type": "code",
   "execution_count": 13,
   "metadata": {},
   "outputs": [
    {
     "data": {
      "text/plain": [
       "'COMPUTER'"
      ]
     },
     "execution_count": 13,
     "metadata": {},
     "output_type": "execute_result"
    }
   ],
   "source": [
    "letter"
   ]
  },
  {
   "cell_type": "code",
   "execution_count": 8,
   "metadata": {},
   "outputs": [
    {
     "data": {
      "text/plain": [
       "'AVSBNLDQ'"
      ]
     },
     "execution_count": 8,
     "metadata": {},
     "output_type": "execute_result"
    }
   ],
   "source": [
    "guesses"
   ]
  },
  {
   "cell_type": "code",
   "execution_count": 19,
   "metadata": {},
   "outputs": [
    {
     "ename": "AttributeError",
     "evalue": "type object 'Game' has no attribute 'Guessed'",
     "output_type": "error",
     "traceback": [
      "\u001b[1;31m---------------------------------------------------------------------------\u001b[0m",
      "\u001b[1;31mAttributeError\u001b[0m                            Traceback (most recent call last)",
      "\u001b[1;32m<ipython-input-19-464a2b4180f0>\u001b[0m in \u001b[0;36m<module>\u001b[1;34m()\u001b[0m\n\u001b[1;32m----> 1\u001b[1;33m \u001b[0mletter\u001b[0m \u001b[1;33m=\u001b[0m \u001b[0mGame\u001b[0m\u001b[1;33m.\u001b[0m\u001b[0mGuessed\u001b[0m\u001b[1;33m(\u001b[0m\u001b[0mguesses\u001b[0m\u001b[1;33m)\u001b[0m\u001b[1;33m\u001b[0m\u001b[0m\n\u001b[0m",
      "\u001b[1;31mAttributeError\u001b[0m: type object 'Game' has no attribute 'Guessed'"
     ]
    }
   ],
   "source": [
    "letter = Game.Guessed(guesses)"
   ]
  },
  {
   "cell_type": "code",
   "execution_count": 28,
   "metadata": {},
   "outputs": [
    {
     "name": "stdout",
     "output_type": "stream",
     "text": [
      "Guesses:   \n",
      "\n",
      "C _ _ _ _ _ _ _ _ "
     ]
    }
   ],
   "source": [
    "Game.Display(letter, word, guesses)"
   ]
  },
  {
   "cell_type": "code",
   "execution_count": null,
   "metadata": {
    "collapsed": true
   },
   "outputs": [],
   "source": []
  },
  {
   "cell_type": "code",
   "execution_count": null,
   "metadata": {
    "collapsed": true
   },
   "outputs": [],
   "source": [
    "class Game():\n",
    "    \n",
    "    def State():  \n",
    "    \n",
    "    def Task1():\n",
    "        \n",
    "    def Task2():\n",
    "    \n",
    "    def Task3():"
   ]
  },
  {
   "cell_type": "code",
   "execution_count": null,
   "metadata": {
    "collapsed": true
   },
   "outputs": [],
   "source": []
  }
 ],
 "metadata": {
  "kernelspec": {
   "display_name": "Python 3",
   "language": "python",
   "name": "python3"
  },
  "language_info": {
   "codemirror_mode": {
    "name": "ipython",
    "version": 3
   },
   "file_extension": ".py",
   "mimetype": "text/x-python",
   "name": "python",
   "nbconvert_exporter": "python",
   "pygments_lexer": "ipython3",
   "version": "3.6.3"
  }
 },
 "nbformat": 4,
 "nbformat_minor": 2
}
